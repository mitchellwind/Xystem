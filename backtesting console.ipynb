{
 "cells": [
  {
   "cell_type": "code",
   "execution_count": 1,
   "metadata": {},
   "outputs": [],
   "source": [
    "from abc import ABCMeta, abstractmethod\n",
    "import datetime\n",
    "import os\n",
    "import os.path\n",
    "\n",
    "import numpy as np\n",
    "import pandas as pd\n",
    "\n",
    "# from event import MarketEvent\n",
    "\n",
    "\n",
    "class DataHandler(object):\n",
    "    \"\"\"\n",
    "    DataHandler is an abstract base class providing an interface for\n",
    "    all subsequent (inherited) data handlers (both live and historic).\n",
    "\n",
    "    The goal of a (derived) DataHandler object is to output a generated\n",
    "    set of bars (OHLCVI) for each symbol requested.\n",
    "\n",
    "    This will replicate how a live strategy would function as current\n",
    "    market data would be sent \"down the pipe\". Thus a historic and live\n",
    "    system will be treated identically by the rest of the backtesting suite.\n",
    "    \"\"\"\n",
    "\n",
    "    __metaclass__ = ABCMeta\n",
    "\n",
    "    @abstractmethod\n",
    "    def get_latest_bars(self, symbol, N=1):\n",
    "        \"\"\"\n",
    "        Returns the last N bars updated.\n",
    "        \"\"\"\n",
    "        raise NotImplementedError(\"Should implement get_latest_bars()\")\n",
    "\n",
    "    @abstractmethod\n",
    "    def update_bars(self):\n",
    "        \"\"\"\n",
    "        Pushes the latest bars to the bars_queue for each symbol\n",
    "        in a tuple OHLCVI format: (datetime, open, high, low,\n",
    "        close, volume, open interest).\n",
    "        \"\"\"\n",
    "        raise NotImplementedError(\"Should implement update_bars()\")\n",
    "\n",
    "\n",
    "class HisDataHandler(DataHandler):\n",
    "    \"\"\"\n",
    "    processing historical data from varies source with same methods.\n",
    "    \"\"\"\n",
    "\n",
    "    def __init__(self, events, symbol_list):\n",
    "        \"\"\"\n",
    "        Initialises the historic data handler by requesting the list of symbols.\n",
    "\n",
    "        Parameters:\n",
    "        events - The Event Queue.\n",
    "        symbol_list - A list of symbol strings.\n",
    "        symbol_data - A generator with structure of {symbolA: DataFrameA, symbolB: DataFrameB,..}\n",
    "        \"\"\"\n",
    "        self.events = events\n",
    "        self.symbol_list = symbol_list\n",
    "\n",
    "        self.symbol_data = {}\n",
    "        self.latest_symbol_data = {}\n",
    "        self.continue_backtest = True\n",
    "        self.bar_index = 0\n",
    "\n",
    "    def symbol_data_from_csv(self, csv_dir,start_time=None, end_time=None):\n",
    "        \"\"\"\n",
    "        :param csv_dir: directory of CSV files;\n",
    "        :param start_time: time to start backtest;\n",
    "        :param end_time: time to end backtest\n",
    "        :return: self.symbol_data\n",
    "        \"\"\"\n",
    "        comb_index = None\n",
    "        for s in self.symbol_list:\n",
    "            # Load the CSV file with no header information, indexed on date\n",
    "            self.symbol_data[s] = pd.read_csv(\n",
    "                os.path.join(csv_dir, '%s.csv' % s),\n",
    "                header=0, index_col=0, parse_dates=True,\n",
    "                names=[\n",
    "                    'datetime', 'open', 'high',\n",
    "                    'low', 'close', 'volume'\n",
    "                ]\n",
    "            )\n",
    "\n",
    "            # Combine the index to pad forward values\n",
    "            if comb_index is None:\n",
    "                comb_index = self.symbol_data[s].index\n",
    "            else:\n",
    "                comb_index.union(self.symbol_data[s].index)\n",
    "\n",
    "            # Set the latest symbol_data to None\n",
    "            self.latest_symbol_data[s] = []\n",
    "\n",
    "        # Reindex the dataframes\n",
    "        for s in self.symbol_list:\n",
    "            self.symbol_data[s] = self.symbol_data[s].reindex(index=comb_index, method='pad')\n",
    "            # slice comb_index with start_time and end_time\n",
    "            if start_time:\n",
    "                try:\n",
    "                    self.symbol_data[s] = self.symbol_data[s][start_time:]\n",
    "                except KeyError:\n",
    "                    print('No historical data for start time')\n",
    "            if end_time:\n",
    "                try:\n",
    "                    self.symbol_data[s] = self.symbol_data[s][:end_time]\n",
    "                except KeyError:\n",
    "                    print('No historical data for end time')\n",
    "            self.symbol_data[s] = self.symbol_data[s].iterrows()\n",
    "\n",
    "    def symbol_data_from_oracle(self, start_time=None, end_time=None):\n",
    "        \"\"\"\n",
    "        :param start_time: time to start backtest;\n",
    "        :param end_time: time to end backtest\n",
    "        :return: self.symbol_data\n",
    "        \"\"\"\n",
    "        pass\n",
    "\n",
    "    def symbol_data_from_wind(self, start_time=None, end_time=None):\n",
    "        \"\"\"\n",
    "        :param start_time: time to start backtest;\n",
    "        :param end_time: time to end backtest\n",
    "        :return: self.symbol_data\n",
    "        \"\"\"\n",
    "        from WindPy import w\n",
    "        w.start()\n",
    "        for s in self.symbol_list:\n",
    "            # import data from wind\n",
    "            wsd_data = w.wsd(s, \"open,high,low,close,volume\",\n",
    "                             start_time, end_time, \"Fill=Previous\")\n",
    "            df = pd.DataFrame(wsd_data.Data,\n",
    "                              index=wsd_data.Fields,\n",
    "                              columns=pd.to_datetime(wsd_data.Times)\n",
    "                              ).T\n",
    "            df.columns = ['open', 'high', 'low', 'close', 'volume']\n",
    "            df.index.name = 'datetime'\n",
    "            self.symbol_data[s] = df\n",
    "            self.latest_symbol_data[s] = []"
   ]
  },
  {
   "cell_type": "code",
   "execution_count": 2,
   "metadata": {},
   "outputs": [],
   "source": [
    "events=[]"
   ]
  },
  {
   "cell_type": "code",
   "execution_count": 3,
   "metadata": {
    "scrolled": true
   },
   "outputs": [],
   "source": [
    "dh=HisDataHandler(events,['000300.SH', '000016.SH'])"
   ]
  },
  {
   "cell_type": "code",
   "execution_count": 4,
   "metadata": {},
   "outputs": [
    {
     "name": "stdout",
     "output_type": "stream",
     "text": [
      "Welcome to use Wind Quant API for Python (WindPy)!\n",
      "\n",
      "COPYRIGHT (C) 2017 WIND INFORMATION CO., LTD. ALL RIGHTS RESERVED.\n",
      "IN NO CIRCUMSTANCE SHALL WIND BE RESPONSIBLE FOR ANY DAMAGES OR LOSSES CAUSED BY USING WIND QUANT API FOR Python.\n"
     ]
    }
   ],
   "source": [
    "dh.symbol_data_from_wind(start_time='2017-10-31')"
   ]
  },
  {
   "cell_type": "code",
   "execution_count": 5,
   "metadata": {},
   "outputs": [],
   "source": [
    "dh_gen=dh.symbol_data['000300.SH'].iterrows()"
   ]
  },
  {
   "cell_type": "code",
   "execution_count": 11,
   "metadata": {},
   "outputs": [
    {
     "data": {
      "text/plain": [
       "Timestamp('2017-10-31 00:00:00')"
      ]
     },
     "execution_count": 11,
     "metadata": {},
     "output_type": "execute_result"
    }
   ],
   "source": [
    "a[0]"
   ]
  },
  {
   "cell_type": "code",
   "execution_count": 6,
   "metadata": {},
   "outputs": [],
   "source": [
    "a=next(dh_gen)"
   ]
  },
  {
   "cell_type": "code",
   "execution_count": 108,
   "metadata": {},
   "outputs": [
    {
     "data": {
      "text/plain": [
       "12105633500.0"
      ]
     },
     "execution_count": 108,
     "metadata": {},
     "output_type": "execute_result"
    }
   ],
   "source": [
    "a[1]['volume']"
   ]
  },
  {
   "cell_type": "code",
   "execution_count": null,
   "metadata": {},
   "outputs": [],
   "source": [
    "index=datetime()"
   ]
  }
 ],
 "metadata": {
  "kernelspec": {
   "display_name": "Python 3",
   "language": "python",
   "name": "python3"
  },
  "language_info": {
   "codemirror_mode": {
    "name": "ipython",
    "version": 3
   },
   "file_extension": ".py",
   "mimetype": "text/x-python",
   "name": "python",
   "nbconvert_exporter": "python",
   "pygments_lexer": "ipython3",
   "version": "3.6.3"
  }
 },
 "nbformat": 4,
 "nbformat_minor": 2
}
